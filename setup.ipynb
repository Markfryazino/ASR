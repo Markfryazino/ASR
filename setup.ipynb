{
 "cells": [
  {
   "cell_type": "code",
   "execution_count": 1,
   "id": "0187291f-00a6-4825-92bd-dd07afcb25e4",
   "metadata": {
    "collapsed": true,
    "jupyter": {
     "outputs_hidden": true
    },
    "tags": []
   },
   "outputs": [
    {
     "name": "stdout",
     "output_type": "stream",
     "text": [
      "Defaulting to user installation because normal site-packages is not writeable\n",
      "Collecting sox\n",
      "  Using cached sox-1.4.1-py2.py3-none-any.whl (39 kB)\n",
      "Requirement already satisfied: torchaudio in /opt/software/python/envs/colab_gpu_py37/lib/python3.7/site-packages (0.11.0+cu113)\n",
      "Requirement already satisfied: librosa in /opt/software/python/envs/colab_gpu_py37/lib/python3.7/site-packages (0.8.1)\n",
      "Requirement already satisfied: numpy>=1.9.0 in /opt/software/python/envs/colab_gpu_py37/lib/python3.7/site-packages (from sox) (1.21.6)\n",
      "Requirement already satisfied: torch==1.11.0 in /opt/software/python/envs/colab_gpu_py37/lib/python3.7/site-packages (from torchaudio) (1.11.0+cu113)\n",
      "Requirement already satisfied: typing-extensions in /opt/software/python/envs/colab_gpu_py37/lib/python3.7/site-packages (from torch==1.11.0->torchaudio) (4.1.1)\n",
      "Requirement already satisfied: audioread>=2.0.0 in /opt/software/python/envs/colab_gpu_py37/lib/python3.7/site-packages (from librosa) (2.1.9)\n",
      "Requirement already satisfied: pooch>=1.0 in /opt/software/python/envs/colab_gpu_py37/lib/python3.7/site-packages (from librosa) (1.6.0)\n",
      "Requirement already satisfied: packaging>=20.0 in /opt/software/python/envs/colab_gpu_py37/lib/python3.7/site-packages (from librosa) (21.3)\n",
      "Requirement already satisfied: decorator>=3.0.0 in /opt/software/python/envs/colab_gpu_py37/lib/python3.7/site-packages (from librosa) (4.4.2)\n",
      "Requirement already satisfied: resampy>=0.2.2 in /opt/software/python/envs/colab_gpu_py37/lib/python3.7/site-packages (from librosa) (0.2.2)\n",
      "Requirement already satisfied: scipy>=1.0.0 in /opt/software/python/envs/colab_gpu_py37/lib/python3.7/site-packages (from librosa) (1.4.1)\n",
      "Requirement already satisfied: scikit-learn!=0.19.0,>=0.14.0 in /opt/software/python/envs/colab_gpu_py37/lib/python3.7/site-packages (from librosa) (1.0.2)\n",
      "Requirement already satisfied: joblib>=0.14 in /opt/software/python/envs/colab_gpu_py37/lib/python3.7/site-packages (from librosa) (1.1.0)\n",
      "Requirement already satisfied: soundfile>=0.10.2 in /opt/software/python/envs/colab_gpu_py37/lib/python3.7/site-packages (from librosa) (0.10.3.post1)\n",
      "Requirement already satisfied: numba>=0.43.0 in /opt/software/python/envs/colab_gpu_py37/lib/python3.7/site-packages (from librosa) (0.51.2)\n",
      "Requirement already satisfied: setuptools in /opt/software/python/envs/colab_gpu_py37/lib/python3.7/site-packages (from numba>=0.43.0->librosa) (61.2.0)\n",
      "Requirement already satisfied: llvmlite<0.35,>=0.34.0.dev0 in /opt/software/python/envs/colab_gpu_py37/lib/python3.7/site-packages (from numba>=0.43.0->librosa) (0.34.0)\n",
      "Requirement already satisfied: pyparsing!=3.0.5,>=2.0.2 in /opt/software/python/envs/colab_gpu_py37/lib/python3.7/site-packages (from packaging>=20.0->librosa) (3.0.9)\n",
      "Requirement already satisfied: requests>=2.19.0 in /opt/software/python/envs/colab_gpu_py37/lib/python3.7/site-packages (from pooch>=1.0->librosa) (2.23.0)\n",
      "Requirement already satisfied: appdirs>=1.3.0 in /opt/software/python/envs/colab_gpu_py37/lib/python3.7/site-packages (from pooch>=1.0->librosa) (1.4.4)\n",
      "Requirement already satisfied: six>=1.3 in /opt/software/python/envs/colab_gpu_py37/lib/python3.7/site-packages (from resampy>=0.2.2->librosa) (1.15.0)\n",
      "Requirement already satisfied: threadpoolctl>=2.0.0 in /opt/software/python/envs/colab_gpu_py37/lib/python3.7/site-packages (from scikit-learn!=0.19.0,>=0.14.0->librosa) (3.1.0)\n",
      "Requirement already satisfied: cffi>=1.0 in /opt/software/python/envs/colab_gpu_py37/lib/python3.7/site-packages (from soundfile>=0.10.2->librosa) (1.15.0)\n",
      "Requirement already satisfied: pycparser in /opt/software/python/envs/colab_gpu_py37/lib/python3.7/site-packages (from cffi>=1.0->soundfile>=0.10.2->librosa) (2.21)\n",
      "Requirement already satisfied: chardet<4,>=3.0.2 in /opt/software/python/envs/colab_gpu_py37/lib/python3.7/site-packages (from requests>=2.19.0->pooch>=1.0->librosa) (3.0.4)\n",
      "Requirement already satisfied: certifi>=2017.4.17 in /opt/software/python/envs/colab_gpu_py37/lib/python3.7/site-packages (from requests>=2.19.0->pooch>=1.0->librosa) (2022.6.15)\n",
      "Requirement already satisfied: idna<3,>=2.5 in /opt/software/python/envs/colab_gpu_py37/lib/python3.7/site-packages (from requests>=2.19.0->pooch>=1.0->librosa) (2.10)\n",
      "Requirement already satisfied: urllib3!=1.25.0,!=1.25.1,<1.26,>=1.21.1 in /opt/software/python/envs/colab_gpu_py37/lib/python3.7/site-packages (from requests>=2.19.0->pooch>=1.0->librosa) (1.24.3)\n",
      "Installing collected packages: sox\n",
      "Successfully installed sox-1.4.1\n",
      "\n",
      "\u001b[1m[\u001b[0m\u001b[34;49mnotice\u001b[0m\u001b[1;39;49m]\u001b[0m\u001b[39;49m A new release of pip available: \u001b[0m\u001b[31;49m22.1.2\u001b[0m\u001b[39;49m -> \u001b[0m\u001b[32;49m22.2.2\u001b[0m\n",
      "\u001b[1m[\u001b[0m\u001b[34;49mnotice\u001b[0m\u001b[1;39;49m]\u001b[0m\u001b[39;49m To update, run: \u001b[0m\u001b[32;49mpip install --upgrade pip\u001b[0m\n"
     ]
    }
   ],
   "source": [
    "!pip3 install sox torchaudio librosa"
   ]
  },
  {
   "cell_type": "code",
   "execution_count": 2,
   "id": "dfc62a35-60c1-428d-afed-736f53098fed",
   "metadata": {
    "collapsed": true,
    "jupyter": {
     "outputs_hidden": true
    },
    "tags": []
   },
   "outputs": [
    {
     "name": "stdout",
     "output_type": "stream",
     "text": [
      "Defaulting to user installation because normal site-packages is not writeable\n",
      "Requirement already satisfied: torch==1.11.0 in /opt/software/python/envs/colab_gpu_py37/lib/python3.7/site-packages (from -r requirements.txt (line 1)) (1.11.0+cu113)\n",
      "Requirement already satisfied: torchvision==0.12.0 in /opt/software/python/envs/colab_gpu_py37/lib/python3.7/site-packages (from -r requirements.txt (line 2)) (0.12.0+cu113)\n",
      "Requirement already satisfied: numpy in /opt/software/python/envs/colab_gpu_py37/lib/python3.7/site-packages (from -r requirements.txt (line 3)) (1.21.6)\n",
      "Requirement already satisfied: tqdm in /opt/software/python/envs/colab_gpu_py37/lib/python3.7/site-packages (from -r requirements.txt (line 4)) (4.64.0)\n",
      "Requirement already satisfied: tensorboard in /opt/software/python/envs/colab_gpu_py37/lib/python3.7/site-packages (from -r requirements.txt (line 5)) (2.8.0)\n",
      "Requirement already satisfied: matplotlib in /opt/software/python/envs/colab_gpu_py37/lib/python3.7/site-packages (from -r requirements.txt (line 6)) (3.2.2)\n",
      "Requirement already satisfied: pandas in /opt/software/python/envs/colab_gpu_py37/lib/python3.7/site-packages (from -r requirements.txt (line 7)) (1.3.5)\n",
      "Collecting speechbrain~=0.5.12\n",
      "  Using cached speechbrain-0.5.13-py3-none-any.whl (498 kB)\n",
      "Collecting datasets\n",
      "  Using cached datasets-2.6.1-py3-none-any.whl (441 kB)\n",
      "Collecting torch_audiomentations\n",
      "  Using cached torch_audiomentations-0.11.0-py3-none-any.whl (47 kB)\n",
      "Requirement already satisfied: editdistance in /opt/software/python/envs/colab_gpu_py37/lib/python3.7/site-packages (from -r requirements.txt (line 12)) (0.5.3)\n",
      "Requirement already satisfied: wandb in /home/mprofin/.local/lib/python3.7/site-packages (from -r requirements.txt (line 13)) (0.13.4)\n",
      "Collecting pyctcdecode\n",
      "  Using cached pyctcdecode-0.4.0-py2.py3-none-any.whl (45 kB)\n",
      "Requirement already satisfied: torchaudio~=0.11.0 in /opt/software/python/envs/colab_gpu_py37/lib/python3.7/site-packages (from -r requirements.txt (line 15)) (0.11.0+cu113)\n",
      "Requirement already satisfied: pillow in /opt/software/python/envs/colab_gpu_py37/lib/python3.7/site-packages (from -r requirements.txt (line 16)) (7.1.2)\n",
      "Requirement already satisfied: typing-extensions in /opt/software/python/envs/colab_gpu_py37/lib/python3.7/site-packages (from torch==1.11.0->-r requirements.txt (line 1)) (4.1.1)\n",
      "Requirement already satisfied: requests in /opt/software/python/envs/colab_gpu_py37/lib/python3.7/site-packages (from torchvision==0.12.0->-r requirements.txt (line 2)) (2.23.0)\n",
      "Requirement already satisfied: absl-py>=0.4 in /opt/software/python/envs/colab_gpu_py37/lib/python3.7/site-packages (from tensorboard->-r requirements.txt (line 5)) (1.1.0)\n",
      "Collecting google-auth<3,>=1.6.3\n",
      "  Using cached google_auth-2.12.0-py2.py3-none-any.whl (169 kB)\n",
      "Requirement already satisfied: markdown>=2.6.8 in /opt/software/python/envs/colab_gpu_py37/lib/python3.7/site-packages (from tensorboard->-r requirements.txt (line 5)) (3.3.7)\n",
      "Requirement already satisfied: tensorboard-plugin-wit>=1.6.0 in /opt/software/python/envs/colab_gpu_py37/lib/python3.7/site-packages (from tensorboard->-r requirements.txt (line 5)) (1.8.1)\n",
      "Requirement already satisfied: protobuf>=3.6.0 in /opt/software/python/envs/colab_gpu_py37/lib/python3.7/site-packages (from tensorboard->-r requirements.txt (line 5)) (3.17.3)\n",
      "Requirement already satisfied: setuptools>=41.0.0 in /opt/software/python/envs/colab_gpu_py37/lib/python3.7/site-packages (from tensorboard->-r requirements.txt (line 5)) (61.2.0)\n",
      "Requirement already satisfied: wheel>=0.26 in /opt/software/python/envs/colab_gpu_py37/lib/python3.7/site-packages (from tensorboard->-r requirements.txt (line 5)) (0.37.1)\n",
      "Requirement already satisfied: tensorboard-data-server<0.7.0,>=0.6.0 in /opt/software/python/envs/colab_gpu_py37/lib/python3.7/site-packages (from tensorboard->-r requirements.txt (line 5)) (0.6.1)\n",
      "Requirement already satisfied: werkzeug>=0.11.15 in /opt/software/python/envs/colab_gpu_py37/lib/python3.7/site-packages (from tensorboard->-r requirements.txt (line 5)) (1.0.1)\n",
      "Requirement already satisfied: grpcio>=1.24.3 in /opt/software/python/envs/colab_gpu_py37/lib/python3.7/site-packages (from tensorboard->-r requirements.txt (line 5)) (1.46.3)\n",
      "Collecting google-auth-oauthlib<0.5,>=0.4.1\n",
      "  Using cached google_auth_oauthlib-0.4.6-py2.py3-none-any.whl (18 kB)\n",
      "Requirement already satisfied: pyparsing!=2.0.4,!=2.1.2,!=2.1.6,>=2.0.1 in /opt/software/python/envs/colab_gpu_py37/lib/python3.7/site-packages (from matplotlib->-r requirements.txt (line 6)) (3.0.9)\n",
      "Requirement already satisfied: kiwisolver>=1.0.1 in /opt/software/python/envs/colab_gpu_py37/lib/python3.7/site-packages (from matplotlib->-r requirements.txt (line 6)) (1.4.3)\n",
      "Requirement already satisfied: cycler>=0.10 in /opt/software/python/envs/colab_gpu_py37/lib/python3.7/site-packages (from matplotlib->-r requirements.txt (line 6)) (0.11.0)\n",
      "Requirement already satisfied: python-dateutil>=2.1 in /opt/software/python/envs/colab_gpu_py37/lib/python3.7/site-packages (from matplotlib->-r requirements.txt (line 6)) (2.8.2)\n",
      "Requirement already satisfied: pytz>=2017.3 in /opt/software/python/envs/colab_gpu_py37/lib/python3.7/site-packages (from pandas->-r requirements.txt (line 7)) (2022.1)\n",
      "Requirement already satisfied: scipy in /opt/software/python/envs/colab_gpu_py37/lib/python3.7/site-packages (from speechbrain~=0.5.12->-r requirements.txt (line 9)) (1.4.1)\n",
      "Collecting huggingface-hub\n",
      "  Using cached huggingface_hub-0.10.1-py3-none-any.whl (163 kB)\n",
      "Requirement already satisfied: packaging in /opt/software/python/envs/colab_gpu_py37/lib/python3.7/site-packages (from speechbrain~=0.5.12->-r requirements.txt (line 9)) (21.3)\n",
      "Collecting hyperpyyaml\n",
      "  Using cached HyperPyYAML-1.0.1.tar.gz (14 kB)\n",
      "  Preparing metadata (setup.py) ... \u001b[?25ldone\n",
      "\u001b[?25hRequirement already satisfied: joblib in /opt/software/python/envs/colab_gpu_py37/lib/python3.7/site-packages (from speechbrain~=0.5.12->-r requirements.txt (line 9)) (1.1.0)\n",
      "Collecting sentencepiece\n",
      "  Downloading sentencepiece-0.1.97-cp37-cp37m-manylinux_2_17_x86_64.manylinux2014_x86_64.whl (1.3 MB)\n",
      "\u001b[2K     \u001b[90m━━━━━━━━━━━━━━━━━━━━━━━━━━━━━━━━━━━━━━━━\u001b[0m \u001b[32m1.3/1.3 MB\u001b[0m \u001b[31m11.8 MB/s\u001b[0m eta \u001b[36m0:00:00\u001b[0ma \u001b[36m0:00:01\u001b[0m\n",
      "\u001b[?25hRequirement already satisfied: importlib-metadata in /opt/software/python/envs/colab_gpu_py37/lib/python3.7/site-packages (from datasets->-r requirements.txt (line 10)) (4.11.4)\n",
      "Collecting pyyaml>=5.1\n",
      "  Downloading PyYAML-6.0-cp37-cp37m-manylinux_2_5_x86_64.manylinux1_x86_64.manylinux_2_12_x86_64.manylinux2010_x86_64.whl (596 kB)\n",
      "\u001b[2K     \u001b[90m━━━━━━━━━━━━━━━━━━━━━━━━━━━━━━━━━━━━━━\u001b[0m \u001b[32m596.3/596.3 kB\u001b[0m \u001b[31m10.8 MB/s\u001b[0m eta \u001b[36m0:00:00\u001b[0ma \u001b[36m0:00:01\u001b[0m\n",
      "\u001b[?25hRequirement already satisfied: pyarrow>=6.0.0 in /opt/software/python/envs/colab_gpu_py37/lib/python3.7/site-packages (from datasets->-r requirements.txt (line 10)) (6.0.1)\n",
      "Collecting xxhash\n",
      "  Downloading xxhash-3.0.0-cp37-cp37m-manylinux_2_17_x86_64.manylinux2014_x86_64.whl (212 kB)\n",
      "\u001b[2K     \u001b[90m━━━━━━━━━━━━━━━━━━━━━━━━━━━━━━━━━━━━━━\u001b[0m \u001b[32m212.2/212.2 kB\u001b[0m \u001b[31m18.0 MB/s\u001b[0m eta \u001b[36m0:00:00\u001b[0m\n",
      "\u001b[?25hRequirement already satisfied: multiprocess in /opt/software/python/envs/colab_gpu_py37/lib/python3.7/site-packages (from datasets->-r requirements.txt (line 10)) (0.70.13)\n",
      "Collecting responses<0.19\n",
      "  Using cached responses-0.18.0-py3-none-any.whl (38 kB)\n",
      "Requirement already satisfied: dill<0.3.6 in /opt/software/python/envs/colab_gpu_py37/lib/python3.7/site-packages (from datasets->-r requirements.txt (line 10)) (0.3.5.1)\n",
      "Collecting fsspec[http]>=2021.11.1\n",
      "  Using cached fsspec-2022.8.2-py3-none-any.whl (140 kB)\n",
      "Collecting aiohttp\n",
      "  Downloading aiohttp-3.8.3-cp37-cp37m-manylinux_2_17_x86_64.manylinux2014_x86_64.whl (948 kB)\n",
      "\u001b[2K     \u001b[90m━━━━━━━━━━━━━━━━━━━━━━━━━━━━━━━━━━━━━━\u001b[0m \u001b[32m948.0/948.0 kB\u001b[0m \u001b[31m20.3 MB/s\u001b[0m eta \u001b[36m0:00:00\u001b[0m00:01\u001b[0m\n",
      "\u001b[?25hRequirement already satisfied: librosa>=0.6.0 in /opt/software/python/envs/colab_gpu_py37/lib/python3.7/site-packages (from torch_audiomentations->-r requirements.txt (line 11)) (0.8.1)\n",
      "Collecting torch-pitch-shift>=1.2.2\n",
      "  Using cached torch_pitch_shift-1.2.2-py3-none-any.whl (5.0 kB)\n",
      "Collecting julius<0.3,>=0.2.3\n",
      "  Using cached julius-0.2.7.tar.gz (59 kB)\n",
      "  Preparing metadata (setup.py) ... \u001b[?25ldone\n",
      "\u001b[?25hRequirement already satisfied: promise<3,>=2.0 in /opt/software/python/envs/colab_gpu_py37/lib/python3.7/site-packages (from wandb->-r requirements.txt (line 13)) (2.3)\n",
      "Requirement already satisfied: sentry-sdk>=1.0.0 in /home/mprofin/.local/lib/python3.7/site-packages (from wandb->-r requirements.txt (line 13)) (1.9.0)\n",
      "Requirement already satisfied: GitPython>=1.0.0 in /home/mprofin/.local/lib/python3.7/site-packages (from wandb->-r requirements.txt (line 13)) (3.1.29)\n",
      "Requirement already satisfied: Click!=8.0.0,>=7.0 in /opt/software/python/envs/colab_gpu_py37/lib/python3.7/site-packages (from wandb->-r requirements.txt (line 13)) (7.1.2)\n",
      "Requirement already satisfied: pathtools in /home/mprofin/.local/lib/python3.7/site-packages (from wandb->-r requirements.txt (line 13)) (0.1.2)\n",
      "Requirement already satisfied: docker-pycreds>=0.4.0 in /home/mprofin/.local/lib/python3.7/site-packages (from wandb->-r requirements.txt (line 13)) (0.4.0)\n",
      "Requirement already satisfied: setproctitle in /home/mprofin/.local/lib/python3.7/site-packages (from wandb->-r requirements.txt (line 13)) (1.3.2)\n",
      "Requirement already satisfied: psutil>=5.0.0 in /opt/software/python/envs/colab_gpu_py37/lib/python3.7/site-packages (from wandb->-r requirements.txt (line 13)) (5.4.8)\n",
      "Requirement already satisfied: six>=1.13.0 in /opt/software/python/envs/colab_gpu_py37/lib/python3.7/site-packages (from wandb->-r requirements.txt (line 13)) (1.15.0)\n",
      "Requirement already satisfied: shortuuid>=0.5.0 in /home/mprofin/.local/lib/python3.7/site-packages (from wandb->-r requirements.txt (line 13)) (1.0.9)\n",
      "Collecting hypothesis<7,>=6.14\n",
      "  Using cached hypothesis-6.56.2-py3-none-any.whl (395 kB)\n",
      "Collecting pygtrie<3.0,>=2.1\n",
      "  Using cached pygtrie-2.5.0-py3-none-any.whl (25 kB)\n",
      "Requirement already satisfied: attrs>=17.3.0 in /opt/software/python/envs/colab_gpu_py37/lib/python3.7/site-packages (from aiohttp->datasets->-r requirements.txt (line 10)) (21.4.0)\n",
      "Collecting frozenlist>=1.1.1\n",
      "  Downloading frozenlist-1.3.1-cp37-cp37m-manylinux_2_5_x86_64.manylinux1_x86_64.manylinux_2_17_x86_64.manylinux2014_x86_64.whl (148 kB)\n",
      "\u001b[2K     \u001b[90m━━━━━━━━━━━━━━━━━━━━━━━━━━━━━━━━━━━━━━\u001b[0m \u001b[32m148.0/148.0 kB\u001b[0m \u001b[31m12.3 MB/s\u001b[0m eta \u001b[36m0:00:00\u001b[0m\n",
      "\u001b[?25hCollecting yarl<2.0,>=1.0\n",
      "  Downloading yarl-1.8.1-cp37-cp37m-manylinux_2_17_x86_64.manylinux2014_x86_64.whl (231 kB)\n",
      "\u001b[2K     \u001b[90m━━━━━━━━━━━━━━━━━━━━━━━━━━━━━━━━━━━━━━\u001b[0m \u001b[32m231.3/231.3 kB\u001b[0m \u001b[31m15.6 MB/s\u001b[0m eta \u001b[36m0:00:00\u001b[0m\n",
      "\u001b[?25hRequirement already satisfied: charset-normalizer<3.0,>=2.0 in /opt/software/python/envs/colab_gpu_py37/lib/python3.7/site-packages (from aiohttp->datasets->-r requirements.txt (line 10)) (2.0.12)\n",
      "Collecting aiosignal>=1.1.2\n",
      "  Using cached aiosignal-1.2.0-py3-none-any.whl (8.2 kB)\n",
      "Collecting async-timeout<5.0,>=4.0.0a3\n",
      "  Using cached async_timeout-4.0.2-py3-none-any.whl (5.8 kB)\n",
      "Collecting asynctest==0.13.0\n",
      "  Downloading asynctest-0.13.0-py3-none-any.whl (26 kB)\n",
      "Collecting multidict<7.0,>=4.5\n",
      "  Downloading multidict-6.0.2-cp37-cp37m-manylinux_2_17_x86_64.manylinux2014_x86_64.whl (94 kB)\n",
      "\u001b[2K     \u001b[90m━━━━━━━━━━━━━━━━━━━━━━━━━━━━━━━━━━━━━━━━\u001b[0m \u001b[32m94.8/94.8 kB\u001b[0m \u001b[31m3.1 MB/s\u001b[0m eta \u001b[36m0:00:00\u001b[0m\n",
      "\u001b[?25hRequirement already satisfied: gitdb<5,>=4.0.1 in /home/mprofin/.local/lib/python3.7/site-packages (from GitPython>=1.0.0->wandb->-r requirements.txt (line 13)) (4.0.9)\n",
      "Requirement already satisfied: rsa<5,>=3.1.4 in /opt/software/python/envs/colab_gpu_py37/lib/python3.7/site-packages (from google-auth<3,>=1.6.3->tensorboard->-r requirements.txt (line 5)) (4.8)\n",
      "Requirement already satisfied: cachetools<6.0,>=2.0.0 in /opt/software/python/envs/colab_gpu_py37/lib/python3.7/site-packages (from google-auth<3,>=1.6.3->tensorboard->-r requirements.txt (line 5)) (4.2.4)\n",
      "Requirement already satisfied: pyasn1-modules>=0.2.1 in /opt/software/python/envs/colab_gpu_py37/lib/python3.7/site-packages (from google-auth<3,>=1.6.3->tensorboard->-r requirements.txt (line 5)) (0.2.8)\n",
      "Requirement already satisfied: requests-oauthlib>=0.7.0 in /opt/software/python/envs/colab_gpu_py37/lib/python3.7/site-packages (from google-auth-oauthlib<0.5,>=0.4.1->tensorboard->-r requirements.txt (line 5)) (1.3.1)\n",
      "Requirement already satisfied: filelock in /opt/software/python/envs/colab_gpu_py37/lib/python3.7/site-packages (from huggingface-hub->speechbrain~=0.5.12->-r requirements.txt (line 9)) (3.7.1)\n",
      "Requirement already satisfied: sortedcontainers<3.0.0,>=2.1.0 in /opt/software/python/envs/colab_gpu_py37/lib/python3.7/site-packages (from hypothesis<7,>=6.14->pyctcdecode->-r requirements.txt (line 14)) (2.4.0)\n",
      "Collecting exceptiongroup>=1.0.0rc8\n",
      "  Using cached exceptiongroup-1.0.0rc9-py3-none-any.whl (12 kB)\n",
      "Requirement already satisfied: soundfile>=0.10.2 in /opt/software/python/envs/colab_gpu_py37/lib/python3.7/site-packages (from librosa>=0.6.0->torch_audiomentations->-r requirements.txt (line 11)) (0.10.3.post1)\n",
      "Requirement already satisfied: pooch>=1.0 in /opt/software/python/envs/colab_gpu_py37/lib/python3.7/site-packages (from librosa>=0.6.0->torch_audiomentations->-r requirements.txt (line 11)) (1.6.0)\n",
      "Requirement already satisfied: scikit-learn!=0.19.0,>=0.14.0 in /opt/software/python/envs/colab_gpu_py37/lib/python3.7/site-packages (from librosa>=0.6.0->torch_audiomentations->-r requirements.txt (line 11)) (1.0.2)\n",
      "Requirement already satisfied: resampy>=0.2.2 in /opt/software/python/envs/colab_gpu_py37/lib/python3.7/site-packages (from librosa>=0.6.0->torch_audiomentations->-r requirements.txt (line 11)) (0.2.2)\n",
      "Requirement already satisfied: numba>=0.43.0 in /opt/software/python/envs/colab_gpu_py37/lib/python3.7/site-packages (from librosa>=0.6.0->torch_audiomentations->-r requirements.txt (line 11)) (0.51.2)\n",
      "Requirement already satisfied: audioread>=2.0.0 in /opt/software/python/envs/colab_gpu_py37/lib/python3.7/site-packages (from librosa>=0.6.0->torch_audiomentations->-r requirements.txt (line 11)) (2.1.9)\n",
      "Requirement already satisfied: decorator>=3.0.0 in /opt/software/python/envs/colab_gpu_py37/lib/python3.7/site-packages (from librosa>=0.6.0->torch_audiomentations->-r requirements.txt (line 11)) (4.4.2)\n",
      "Requirement already satisfied: zipp>=0.5 in /opt/software/python/envs/colab_gpu_py37/lib/python3.7/site-packages (from importlib-metadata->datasets->-r requirements.txt (line 10)) (3.8.0)\n",
      "Requirement already satisfied: certifi>=2017.4.17 in /opt/software/python/envs/colab_gpu_py37/lib/python3.7/site-packages (from requests->torchvision==0.12.0->-r requirements.txt (line 2)) (2022.6.15)\n",
      "Requirement already satisfied: chardet<4,>=3.0.2 in /opt/software/python/envs/colab_gpu_py37/lib/python3.7/site-packages (from requests->torchvision==0.12.0->-r requirements.txt (line 2)) (3.0.4)\n",
      "Requirement already satisfied: urllib3!=1.25.0,!=1.25.1,<1.26,>=1.21.1 in /opt/software/python/envs/colab_gpu_py37/lib/python3.7/site-packages (from requests->torchvision==0.12.0->-r requirements.txt (line 2)) (1.24.3)\n",
      "Requirement already satisfied: idna<3,>=2.5 in /opt/software/python/envs/colab_gpu_py37/lib/python3.7/site-packages (from requests->torchvision==0.12.0->-r requirements.txt (line 2)) (2.10)\n",
      "Collecting urllib3!=1.25.0,!=1.25.1,<1.26,>=1.21.1\n",
      "  Downloading urllib3-1.25.11-py2.py3-none-any.whl (127 kB)\n",
      "\u001b[2K     \u001b[90m━━━━━━━━━━━━━━━━━━━━━━━━━━━━━━━━━━━━━━\u001b[0m \u001b[32m128.0/128.0 kB\u001b[0m \u001b[31m10.2 MB/s\u001b[0m eta \u001b[36m0:00:00\u001b[0m\n",
      "\u001b[?25hCollecting primePy>=1.3\n",
      "  Using cached primePy-1.3-py3-none-any.whl (4.0 kB)\n",
      "Collecting ruamel.yaml>=0.17.8\n",
      "  Using cached ruamel.yaml-0.17.21-py3-none-any.whl (109 kB)\n",
      "Requirement already satisfied: smmap<6,>=3.0.1 in /home/mprofin/.local/lib/python3.7/site-packages (from gitdb<5,>=4.0.1->GitPython>=1.0.0->wandb->-r requirements.txt (line 13)) (5.0.0)\n",
      "Requirement already satisfied: llvmlite<0.35,>=0.34.0.dev0 in /opt/software/python/envs/colab_gpu_py37/lib/python3.7/site-packages (from numba>=0.43.0->librosa>=0.6.0->torch_audiomentations->-r requirements.txt (line 11)) (0.34.0)\n",
      "Requirement already satisfied: appdirs>=1.3.0 in /opt/software/python/envs/colab_gpu_py37/lib/python3.7/site-packages (from pooch>=1.0->librosa>=0.6.0->torch_audiomentations->-r requirements.txt (line 11)) (1.4.4)\n",
      "Requirement already satisfied: pyasn1<0.5.0,>=0.4.6 in /opt/software/python/envs/colab_gpu_py37/lib/python3.7/site-packages (from pyasn1-modules>=0.2.1->google-auth<3,>=1.6.3->tensorboard->-r requirements.txt (line 5)) (0.4.8)\n",
      "Requirement already satisfied: oauthlib>=3.0.0 in /opt/software/python/envs/colab_gpu_py37/lib/python3.7/site-packages (from requests-oauthlib>=0.7.0->google-auth-oauthlib<0.5,>=0.4.1->tensorboard->-r requirements.txt (line 5)) (3.2.0)\n",
      "Collecting ruamel.yaml.clib>=0.2.6\n",
      "  Downloading ruamel.yaml.clib-0.2.6-cp37-cp37m-manylinux1_x86_64.whl (546 kB)\n",
      "\u001b[2K     \u001b[90m━━━━━━━━━━━━━━━━━━━━━━━━━━━━━━━━━━━━━━\u001b[0m \u001b[32m546.8/546.8 kB\u001b[0m \u001b[31m16.4 MB/s\u001b[0m eta \u001b[36m0:00:00\u001b[0m\n",
      "\u001b[?25hRequirement already satisfied: threadpoolctl>=2.0.0 in /opt/software/python/envs/colab_gpu_py37/lib/python3.7/site-packages (from scikit-learn!=0.19.0,>=0.14.0->librosa>=0.6.0->torch_audiomentations->-r requirements.txt (line 11)) (3.1.0)\n",
      "Requirement already satisfied: cffi>=1.0 in /opt/software/python/envs/colab_gpu_py37/lib/python3.7/site-packages (from soundfile>=0.10.2->librosa>=0.6.0->torch_audiomentations->-r requirements.txt (line 11)) (1.15.0)\n",
      "Requirement already satisfied: pycparser in /opt/software/python/envs/colab_gpu_py37/lib/python3.7/site-packages (from cffi>=1.0->soundfile>=0.10.2->librosa>=0.6.0->torch_audiomentations->-r requirements.txt (line 11)) (2.21)\n",
      "Building wheels for collected packages: julius, hyperpyyaml\n",
      "  Building wheel for julius (setup.py) ... \u001b[?25ldone\n",
      "\u001b[?25h  Created wheel for julius: filename=julius-0.2.7-py3-none-any.whl size=21894 sha256=a71b1b0a213dc56b8634cb68a7fa29931a8523459368b0210173faff5e04f54b\n",
      "  Stored in directory: /home/mprofin/.cache/pip/wheels/44/52/2c/7dd069f82c7f905f40b190a8039ec2a17fdd4bb009c57c6664\n",
      "  Building wheel for hyperpyyaml (setup.py) ... \u001b[?25ldone\n",
      "\u001b[?25h  Created wheel for hyperpyyaml: filename=HyperPyYAML-1.0.1-py3-none-any.whl size=15192 sha256=a82a37de868ccf91ab6795d749e8a2269433b86c03a80454f50c49fd6c828ff9\n",
      "  Stored in directory: /home/mprofin/.cache/pip/wheels/6c/87/65/266d722c3932f81f16332ce842e972be8421e3a9cd3771766b\n",
      "Successfully built julius hyperpyyaml\n",
      "Installing collected packages: sentencepiece, pygtrie, primePy, xxhash, urllib3, ruamel.yaml.clib, pyyaml, multidict, fsspec, frozenlist, exceptiongroup, asynctest, async-timeout, yarl, ruamel.yaml, julius, hypothesis, google-auth, aiosignal, torch-pitch-shift, responses, pyctcdecode, hyperpyyaml, huggingface-hub, aiohttp, speechbrain, google-auth-oauthlib, torch_audiomentations, datasets\n",
      "\u001b[33m  WARNING: The script hypothesis is installed in '/home/mprofin/.local/bin' which is not on PATH.\n",
      "  Consider adding this directory to PATH or, if you prefer to suppress this warning, use --no-warn-script-location.\u001b[0m\u001b[33m\n",
      "\u001b[0m\u001b[33m  WARNING: The script huggingface-cli is installed in '/home/mprofin/.local/bin' which is not on PATH.\n",
      "  Consider adding this directory to PATH or, if you prefer to suppress this warning, use --no-warn-script-location.\u001b[0m\u001b[33m\n",
      "\u001b[0m\u001b[33m  WARNING: The script google-oauthlib-tool is installed in '/home/mprofin/.local/bin' which is not on PATH.\n",
      "  Consider adding this directory to PATH or, if you prefer to suppress this warning, use --no-warn-script-location.\u001b[0m\u001b[33m\n",
      "\u001b[0m\u001b[33m  WARNING: The script datasets-cli is installed in '/home/mprofin/.local/bin' which is not on PATH.\n",
      "  Consider adding this directory to PATH or, if you prefer to suppress this warning, use --no-warn-script-location.\u001b[0m\u001b[33m\n",
      "\u001b[0m\u001b[31mERROR: pip's dependency resolver does not currently take into account all the packages that are installed. This behaviour is the source of the following dependency conflicts.\n",
      "pydrive 1.3.1 requires google-api-python-client>=1.2, which is not installed.\n",
      "pandas-gbq 0.13.3 requires google-cloud-bigquery[bqstorage,pandas]<2.0.0dev,>=1.11.1, which is not installed.\n",
      "earthengine-api 0.1.315 requires google-api-python-client<2,>=1.12.1, which is not installed.\n",
      "earthengine-api 0.1.315 requires google-auth-httplib2>=0.0.3, which is not installed.\n",
      "earthengine-api 0.1.315 requires google-cloud-storage, which is not installed.\n",
      "datascience 0.10.6 requires folium==0.2.1, but you have folium 0.8.3 which is incompatible.\u001b[0m\u001b[31m\n",
      "\u001b[0mSuccessfully installed aiohttp-3.8.3 aiosignal-1.2.0 async-timeout-4.0.2 asynctest-0.13.0 datasets-2.6.1 exceptiongroup-1.0.0rc9 frozenlist-1.3.1 fsspec-2022.8.2 google-auth-2.12.0 google-auth-oauthlib-0.4.6 huggingface-hub-0.10.1 hyperpyyaml-1.0.1 hypothesis-6.56.2 julius-0.2.7 multidict-6.0.2 primePy-1.3 pyctcdecode-0.4.0 pygtrie-2.5.0 pyyaml-6.0 responses-0.18.0 ruamel.yaml-0.17.21 ruamel.yaml.clib-0.2.6 sentencepiece-0.1.97 speechbrain-0.5.13 torch-pitch-shift-1.2.2 torch_audiomentations-0.11.0 urllib3-1.25.11 xxhash-3.0.0 yarl-1.8.1\n",
      "\n",
      "\u001b[1m[\u001b[0m\u001b[34;49mnotice\u001b[0m\u001b[1;39;49m]\u001b[0m\u001b[39;49m A new release of pip available: \u001b[0m\u001b[31;49m22.1.2\u001b[0m\u001b[39;49m -> \u001b[0m\u001b[32;49m22.2.2\u001b[0m\n",
      "\u001b[1m[\u001b[0m\u001b[34;49mnotice\u001b[0m\u001b[1;39;49m]\u001b[0m\u001b[39;49m To update, run: \u001b[0m\u001b[32;49mpip install --upgrade pip\u001b[0m\n"
     ]
    }
   ],
   "source": [
    "!pip3 install -r requirements.txt"
   ]
  },
  {
   "cell_type": "code",
   "execution_count": 1,
   "id": "df6d751d-b405-495f-bbac-7be9967bdfae",
   "metadata": {},
   "outputs": [
    {
     "name": "stdout",
     "output_type": "stream",
     "text": [
      "./opt/software/python/envs/colab_gpu_py37/lib/python3.7/site-packages/torchaudio/functional/functional.py:508: UserWarning: At least one mel filterbank has all zero values. The value for `n_mels` (128) may be set too high. Or, the value for `n_freqs` (201) may be set too low.\n",
      "  \"At least one mel filterbank has all zero values. \"\n",
      ".61 (2.3%) records are longer then 20.0 seconds. Excluding them.\n",
      "292 (10.8%) records are longer then 200 characters. Excluding them.\n",
      "Filtered 292(10.8%) records  from dataset\n",
      "61 (2.3%) records are longer then 20.0 seconds. Excluding them.\n",
      "292 (10.8%) records are longer then 200 characters. Excluding them.\n",
      "Filtered 292(10.8%) records  from dataset\n",
      "Iterating over train: 100%|█████████████████████| 10/10 [00:05<00:00,  1.68it/s]\n",
      "Iterating over val: 100%|███████████████████████| 10/10 [00:06<00:00,  1.61it/s]\n",
      "..3 (60.0%) records are longer then 8 seconds. Excluding them.\n",
      "1 (20.0%) records are longer then 130 characters. Excluding them.\n",
      "Filtered 4(80.0%) records  from dataset\n",
      ".288 (10.7%) records are longer then 13 seconds. Excluding them.\n",
      "671 (24.8%) records are longer then 140 characters. Excluding them.\n",
      "Filtered 671(24.8%) records  from dataset\n",
      "....\n",
      "----------------------------------------------------------------------\n",
      "Ran 9 tests in 12.790s\n",
      "\n",
      "OK\n"
     ]
    }
   ],
   "source": [
    "!python -m unittest discover hw_asr/tests"
   ]
  },
  {
   "cell_type": "code",
   "execution_count": 1,
   "id": "d951231e-c918-497a-af90-c6f31959b891",
   "metadata": {},
   "outputs": [
    {
     "name": "stdout",
     "output_type": "stream",
     "text": [
      "Defaulting to user installation because normal site-packages is not writeable\n",
      "Collecting https://github.com/kpu/kenlm/archive/master.zip\n",
      "  Downloading https://github.com/kpu/kenlm/archive/master.zip (550 kB)\n",
      "\u001b[2K     \u001b[90m━━━━━━━━━━━━━━━━━━━━━━━━━━━━━━━━━━━━━━━\u001b[0m \u001b[32m550.7/550.7 kB\u001b[0m \u001b[31m2.1 MB/s\u001b[0m eta \u001b[36m0:00:00\u001b[0m00:01\u001b[0m00:01\u001b[0m\n",
      "\u001b[?25h  Preparing metadata (setup.py) ... \u001b[?25ldone\n",
      "\u001b[?25hBuilding wheels for collected packages: kenlm\n",
      "  Building wheel for kenlm (setup.py) ... \u001b[?25ldone\n",
      "\u001b[?25h  Created wheel for kenlm: filename=kenlm-0.0.0-cp37-cp37m-linux_x86_64.whl size=2167991 sha256=78b6b06748c18087f4f1a704f667057fadda6bf95a8f37774cc2739494f32365\n",
      "  Stored in directory: /tmp/job-853918/pip-ephem-wheel-cache-ks64jlh9/wheels/3d/aa/02/7b4a2eab5d7a2a9391bd9680dbad6270808a147bc3b7047e4e\n",
      "Successfully built kenlm\n",
      "Installing collected packages: kenlm\n",
      "Successfully installed kenlm-0.0.0\n",
      "\n",
      "\u001b[1m[\u001b[0m\u001b[34;49mnotice\u001b[0m\u001b[1;39;49m]\u001b[0m\u001b[39;49m A new release of pip available: \u001b[0m\u001b[31;49m22.1.2\u001b[0m\u001b[39;49m -> \u001b[0m\u001b[32;49m22.2.2\u001b[0m\n",
      "\u001b[1m[\u001b[0m\u001b[34;49mnotice\u001b[0m\u001b[1;39;49m]\u001b[0m\u001b[39;49m To update, run: \u001b[0m\u001b[32;49mpip install --upgrade pip\u001b[0m\n"
     ]
    }
   ],
   "source": [
    "!pip install https://github.com/kpu/kenlm/archive/master.zip"
   ]
  },
  {
   "cell_type": "code",
   "execution_count": 3,
   "id": "0cd6144d-c5eb-4ab6-8a2e-87126b466767",
   "metadata": {},
   "outputs": [
    {
     "name": "stdout",
     "output_type": "stream",
     "text": [
      "wget: /opt/software/python/envs/colab_gpu_py37/lib/libuuid.so.1: no version information available (required by wget)\n",
      "--2022-10-17 18:54:34--  https://www.openslr.org/resources/11/3-gram.arpa.gz\n",
      "Resolving www.openslr.org (www.openslr.org)... 46.101.158.64\n",
      "Connecting to www.openslr.org (www.openslr.org)|46.101.158.64|:443... connected.\n",
      "WARNING: cannot verify www.openslr.org's certificate, issued by ‘/C=US/O=Let's Encrypt/CN=R3’:\n",
      "  Issued certificate has expired.\n",
      "HTTP request sent, awaiting response... 302 Found\n",
      "Location: http://openslr.elda.org/resources/11/3-gram.arpa.gz [following]\n",
      "--2022-10-17 18:54:34--  http://openslr.elda.org/resources/11/3-gram.arpa.gz\n",
      "Resolving openslr.elda.org (openslr.elda.org)... 141.94.109.138, 2001:41d0:203:ad8a::\n",
      "Connecting to openslr.elda.org (openslr.elda.org)|141.94.109.138|:80... connected.\n",
      "HTTP request sent, awaiting response... 200 OK\n",
      "Length: 759636181 (724M) [application/x-gzip]\n",
      "Saving to: ‘3-gram.arpa.gz’\n",
      "\n",
      "100%[======================================>] 759,636,181  793KB/s   in 9m 26s \n",
      "\n",
      "2022-10-17 19:04:01 (1.28 MB/s) - ‘3-gram.arpa.gz’ saved [759636181/759636181]\n",
      "\n"
     ]
    }
   ],
   "source": [
    "!wget https://www.openslr.org/resources/11/3-gram.arpa.gz --no-check-certificate"
   ]
  },
  {
   "cell_type": "code",
   "execution_count": 6,
   "id": "95c4b11a-7689-409d-95da-1458281dde49",
   "metadata": {},
   "outputs": [],
   "source": [
    "!gzip -d 3-gram.arpa.gz"
   ]
  },
  {
   "cell_type": "code",
   "execution_count": 10,
   "id": "ac146c4f-47f4-47c0-8fa5-cc19adbb377c",
   "metadata": {},
   "outputs": [
    {
     "name": "stdout",
     "output_type": "stream",
     "text": [
      "Updating ee7202e..b43829e\n",
      "Fast-forward\n",
      " hw_asr/configs/balrog evaluation.json | 24 +++++++++++++++++++\n",
      " hw_asr/configs/balrog.json            |  2 +-\n",
      " hw_asr/model/deepspeech2.py           |  2 +-\n",
      " test.py                               | 44 ++++++++++++++++++++++++++---------\n",
      " 4 files changed, 59 insertions(+), 13 deletions(-)\n",
      " create mode 100644 hw_asr/configs/balrog evaluation.json\n"
     ]
    }
   ],
   "source": [
    "!git pull"
   ]
  }
 ],
 "metadata": {
  "kernelspec": {
   "display_name": "Google Colab GPU Python 3.7 [python-colab_gpu_py37]",
   "language": "python",
   "name": "conda-env-python-colab_gpu_py37-py"
  },
  "language_info": {
   "codemirror_mode": {
    "name": "ipython",
    "version": 3
   },
   "file_extension": ".py",
   "mimetype": "text/x-python",
   "name": "python",
   "nbconvert_exporter": "python",
   "pygments_lexer": "ipython3",
   "version": "3.7.12"
  }
 },
 "nbformat": 4,
 "nbformat_minor": 5
}
